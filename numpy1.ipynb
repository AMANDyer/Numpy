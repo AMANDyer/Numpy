{
 "cells": [
  {
   "cell_type": "code",
   "execution_count": 1,
   "id": "d84e5270-3db9-4db5-b9d5-9385649053e9",
   "metadata": {},
   "outputs": [],
   "source": [
    "#introduction to numpy\n",
    "#Numpy is an open source library that is used for scientific calculations\n",
    "\n",
    "##Why numpy is better than lists?\n",
    "#(1). List hetrogenous(different) data types and Numpy homogenous(same) data type\n",
    "#(2). List take more memory as compared to Numpy\n",
    "#(3). List take more time execution as compare to Numpy\n"
   ]
  },
  {
   "cell_type": "code",
   "execution_count": 2,
   "id": "98adb6fb-e358-409b-bd37-7ca0a3a45803",
   "metadata": {},
   "outputs": [],
   "source": [
    "import numpy as np"
   ]
  },
  {
   "cell_type": "code",
   "execution_count": 3,
   "id": "8be296d1-44f6-49bc-be12-7a98339e6a69",
   "metadata": {},
   "outputs": [
    {
     "data": {
      "text/plain": [
       "list"
      ]
     },
     "execution_count": 3,
     "metadata": {},
     "output_type": "execute_result"
    }
   ],
   "source": [
    "a=[1,45,90]\n",
    "type(a)"
   ]
  },
  {
   "cell_type": "code",
   "execution_count": 4,
   "id": "e8a39ac0-4c36-44c1-8847-dffe2f82df79",
   "metadata": {},
   "outputs": [
    {
     "data": {
      "text/plain": [
       "numpy.ndarray"
      ]
     },
     "execution_count": 4,
     "metadata": {},
     "output_type": "execute_result"
    }
   ],
   "source": [
    "b=np.array(a)\n",
    "type(b)"
   ]
  },
  {
   "cell_type": "code",
   "execution_count": 5,
   "id": "16c8b38f-a98a-41ac-8c68-e987fa132170",
   "metadata": {},
   "outputs": [],
   "source": [
    "#How can we create a user defined array?\n"
   ]
  },
  {
   "cell_type": "code",
   "execution_count": 9,
   "id": "1534927a-04b2-4d8c-b426-65d42c8aaf03",
   "metadata": {},
   "outputs": [
    {
     "name": "stdin",
     "output_type": "stream",
     "text": [
      "Enter size 2\n",
      "enter value 12\n",
      "enter value 34\n"
     ]
    },
    {
     "data": {
      "text/plain": [
       "array([12, 34])"
      ]
     },
     "execution_count": 9,
     "metadata": {},
     "output_type": "execute_result"
    }
   ],
   "source": [
    "a=[]\n",
    "size=int(input(\"Enter size\"))\n",
    "for i in range(size):\n",
    "    val=int(input(\"enter value\"))\n",
    "    a.append(val)\n",
    "\n",
    "#print(a)\n",
    "b=np.array(a)\n",
    "b"
   ]
  },
  {
   "cell_type": "code",
   "execution_count": 8,
   "id": "e3689938-a041-4247-b288-22a2132ed30b",
   "metadata": {},
   "outputs": [
    {
     "data": {
      "text/plain": [
       "numpy.ndarray"
      ]
     },
     "execution_count": 8,
     "metadata": {},
     "output_type": "execute_result"
    }
   ],
   "source": [
    "type(b)"
   ]
  },
  {
   "cell_type": "code",
   "execution_count": 10,
   "id": "9f9459df-9d14-4363-a68d-932815739016",
   "metadata": {},
   "outputs": [],
   "source": [
    "#How can we check shape,size,dimention of an array"
   ]
  },
  {
   "cell_type": "code",
   "execution_count": 11,
   "id": "aa2c89e1-99a0-44cb-8335-0511dcccd368",
   "metadata": {},
   "outputs": [
    {
     "data": {
      "text/plain": [
       "array([[1, 2, 3, 0],\n",
       "       [4, 5, 6, 7],\n",
       "       [7, 8, 9, 1]])"
      ]
     },
     "execution_count": 11,
     "metadata": {},
     "output_type": "execute_result"
    }
   ],
   "source": [
    "a=[[1,2,3,0],[4,5,6,7],[7,8,9,1]]\n",
    "b=np.array(a)\n",
    "b"
   ]
  },
  {
   "cell_type": "code",
   "execution_count": 12,
   "id": "6ae51e12-c607-4a5a-95ca-6b5cbf22fa43",
   "metadata": {},
   "outputs": [
    {
     "name": "stdout",
     "output_type": "stream",
     "text": [
      "Total shape= (3, 4)\n"
     ]
    }
   ],
   "source": [
    "print(\"Total shape=\",b.shape)"
   ]
  },
  {
   "cell_type": "code",
   "execution_count": 13,
   "id": "3ba8c899-a58a-4dab-8622-c3b9d6eb7fc2",
   "metadata": {},
   "outputs": [
    {
     "name": "stdout",
     "output_type": "stream",
     "text": [
      "Total Size= 12\n"
     ]
    }
   ],
   "source": [
    "print(\"Total Elements=\",b.size)"
   ]
  },
  {
   "cell_type": "code",
   "execution_count": 14,
   "id": "5d11399c-c1a9-4611-a7e2-597c48aae036",
   "metadata": {},
   "outputs": [
    {
     "name": "stdout",
     "output_type": "stream",
     "text": [
      "Total Dimentions= 2\n"
     ]
    }
   ],
   "source": [
    "print(\"Total Dimentions=\",b.ndim)"
   ]
  },
  {
   "cell_type": "code",
   "execution_count": 1,
   "id": "b480e5a7-595c-414f-8fde-edf5009a4149",
   "metadata": {},
   "outputs": [],
   "source": [
    "#Pre defined functions in numpy\n"
   ]
  },
  {
   "cell_type": "code",
   "execution_count": 2,
   "id": "3cdc069c-9317-4f24-888e-0a9c511f68b8",
   "metadata": {},
   "outputs": [],
   "source": [
    "#(1). zeros()......>it will return an array in which all the values will be o in \n",
    "#either one dimentional or multidimenstional"
   ]
  },
  {
   "cell_type": "code",
   "execution_count": 1,
   "id": "d06822ce-c8a7-4a6d-9ec9-d0b5172fb29e",
   "metadata": {},
   "outputs": [
    {
     "data": {
      "text/plain": [
       "array([0., 0., 0.])"
      ]
     },
     "execution_count": 1,
     "metadata": {},
     "output_type": "execute_result"
    }
   ],
   "source": [
    "import numpy as np\n",
    "a = np.zeros((3))\n",
    "a"
   ]
  },
  {
   "cell_type": "code",
   "execution_count": null,
   "id": "231494d6-7687-49b1-89aa-abc3d2ea4210",
   "metadata": {},
   "outputs": [],
   "source": []
  },
  {
   "cell_type": "code",
   "execution_count": null,
   "id": "dc6ecc87-ec5b-44f3-82c7-eab8f0319c80",
   "metadata": {},
   "outputs": [],
   "source": []
  }
 ],
 "metadata": {
  "kernelspec": {
   "display_name": "Python 3 (ipykernel)",
   "language": "python",
   "name": "python3"
  },
  "language_info": {
   "codemirror_mode": {
    "name": "ipython",
    "version": 3
   },
   "file_extension": ".py",
   "mimetype": "text/x-python",
   "name": "python",
   "nbconvert_exporter": "python",
   "pygments_lexer": "ipython3",
   "version": "3.11.8"
  }
 },
 "nbformat": 4,
 "nbformat_minor": 5
}
