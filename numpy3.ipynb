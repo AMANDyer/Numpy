{
 "cells": [
  {
   "cell_type": "code",
   "execution_count": 1,
   "id": "f74bb3ec-7357-4958-ad76-ef58a5076e8d",
   "metadata": {},
   "outputs": [],
   "source": [
    "import numpy as ns"
   ]
  },
  {
   "cell_type": "code",
   "execution_count": 2,
   "id": "1dd9851b-0deb-4f4f-a743-b90d5ae525a8",
   "metadata": {},
   "outputs": [
    {
     "data": {
      "text/plain": [
       "list"
      ]
     },
     "execution_count": 2,
     "metadata": {},
     "output_type": "execute_result"
    }
   ],
   "source": [
    "a=[1,2,6,9]\n",
    "type(a)"
   ]
  },
  {
   "cell_type": "code",
   "execution_count": 5,
   "id": "2e95218f-434a-4387-8f56-1c2ee37da24f",
   "metadata": {},
   "outputs": [
    {
     "data": {
      "text/plain": [
       "numpy.ndarray"
      ]
     },
     "execution_count": 5,
     "metadata": {},
     "output_type": "execute_result"
    }
   ],
   "source": [
    "b=ns.array(a)\n",
    "type(b)"
   ]
  },
  {
   "cell_type": "code",
   "execution_count": 6,
   "id": "74d93b4b-c349-431e-b4db-bbfe3bee58f6",
   "metadata": {},
   "outputs": [],
   "source": [
    "#Reshaping the array"
   ]
  },
  {
   "cell_type": "code",
   "execution_count": 7,
   "id": "c5186b68-2322-4534-8dd3-175d16efd32a",
   "metadata": {},
   "outputs": [],
   "source": [
    "# n(rows)*n(cols)=n(total_Elements)\n",
    "\n",
    "#total_elements=12\n",
    "#1*12,12*1\n",
    "#2*6,6*2\n",
    "#3*4,4*3"
   ]
  },
  {
   "cell_type": "code",
   "execution_count": 8,
   "id": "29b6decf-bf3f-46ee-8a6b-fb6f1802dd2e",
   "metadata": {},
   "outputs": [
    {
     "data": {
      "text/plain": [
       "array([ 1,  2,  3,  4,  5,  6,  7,  8,  9, 10, 11, 12, 13, 14, 15, 16, 17,\n",
       "       18, 19, 20])"
      ]
     },
     "execution_count": 8,
     "metadata": {},
     "output_type": "execute_result"
    }
   ],
   "source": [
    "a=ns.arange(1,21,1)\n",
    "a"
   ]
  },
  {
   "cell_type": "code",
   "execution_count": 10,
   "id": "a95b5891-3d89-44ab-8c02-b2e046634a20",
   "metadata": {},
   "outputs": [
    {
     "ename": "ValueError",
     "evalue": "cannot reshape array of size 20 into shape (4,3)",
     "output_type": "error",
     "traceback": [
      "\u001b[31m---------------------------------------------------------------------------\u001b[39m",
      "\u001b[31mValueError\u001b[39m                                Traceback (most recent call last)",
      "\u001b[36mCell\u001b[39m\u001b[36m \u001b[39m\u001b[32mIn[10]\u001b[39m\u001b[32m, line 1\u001b[39m\n\u001b[32m----> \u001b[39m\u001b[32m1\u001b[39m \u001b[43ma\u001b[49m\u001b[43m.\u001b[49m\u001b[43mreshape\u001b[49m\u001b[43m(\u001b[49m\u001b[32;43m4\u001b[39;49m\u001b[43m,\u001b[49m\u001b[32;43m3\u001b[39;49m\u001b[43m)\u001b[49m\n\u001b[32m      2\u001b[39m a\n",
      "\u001b[31mValueError\u001b[39m: cannot reshape array of size 20 into shape (4,3)"
     ]
    }
   ],
   "source": [
    "a.reshape(4,3)\n",
    "a"
   ]
  },
  {
   "cell_type": "code",
   "execution_count": 12,
   "id": "720f52c8-7937-4460-81c8-62ec28517ba1",
   "metadata": {},
   "outputs": [
    {
     "data": {
      "text/plain": [
       "array([[ 1,  2,  3,  4,  5],\n",
       "       [ 6,  7,  8,  9, 10],\n",
       "       [11, 12, 13, 14, 15],\n",
       "       [16, 17, 18, 19, 20]])"
      ]
     },
     "execution_count": 12,
     "metadata": {},
     "output_type": "execute_result"
    }
   ],
   "source": [
    "a.reshape(4,5)\n"
   ]
  },
  {
   "cell_type": "code",
   "execution_count": 13,
   "id": "bf6f888e-f154-4156-b04f-8e320e074c13",
   "metadata": {},
   "outputs": [
    {
     "data": {
      "text/plain": [
       "array([[ 1,  2,  3,  4,  5,  6,  7,  8,  9, 10],\n",
       "       [11, 12, 13, 14, 15, 16, 17, 18, 19, 20]])"
      ]
     },
     "execution_count": 13,
     "metadata": {},
     "output_type": "execute_result"
    }
   ],
   "source": [
    "a.reshape(2,10)"
   ]
  },
  {
   "cell_type": "code",
   "execution_count": 14,
   "id": "829ea198-522c-450b-8ed1-4a0da8a5a182",
   "metadata": {},
   "outputs": [],
   "source": [
    "#Operations on Array"
   ]
  },
  {
   "cell_type": "code",
   "execution_count": 15,
   "id": "18b64663-e5cc-4d10-903a-975cfcbf0fbd",
   "metadata": {},
   "outputs": [
    {
     "data": {
      "text/plain": [
       "array([1, 2, 3, 4])"
      ]
     },
     "execution_count": 15,
     "metadata": {},
     "output_type": "execute_result"
    }
   ],
   "source": [
    "a=ns.array([1,2,3,4])\n",
    "a"
   ]
  },
  {
   "cell_type": "code",
   "execution_count": 16,
   "id": "2eb4fcb6-f328-47ed-b8fa-6a5b52a31655",
   "metadata": {},
   "outputs": [
    {
     "data": {
      "text/plain": [
       "array([ 1,  8, 27, 64])"
      ]
     },
     "execution_count": 16,
     "metadata": {},
     "output_type": "execute_result"
    }
   ],
   "source": [
    "a**3"
   ]
  },
  {
   "cell_type": "code",
   "execution_count": 17,
   "id": "406c9fb8-7df1-4ce6-b00c-4e2624396944",
   "metadata": {},
   "outputs": [
    {
     "data": {
      "text/plain": [
       "array([2, 4, 6, 8])"
      ]
     },
     "execution_count": 17,
     "metadata": {},
     "output_type": "execute_result"
    }
   ],
   "source": [
    "a*2"
   ]
  },
  {
   "cell_type": "code",
   "execution_count": 20,
   "id": "3d9e15d1-988c-4a68-96e4-a345e5ee4c9d",
   "metadata": {},
   "outputs": [
    {
     "data": {
      "text/plain": [
       "array([[1, 2],\n",
       "       [3, 4]])"
      ]
     },
     "execution_count": 20,
     "metadata": {},
     "output_type": "execute_result"
    }
   ],
   "source": [
    "a=ns.arange(1,5).reshape(2,2)\n",
    "a"
   ]
  },
  {
   "cell_type": "code",
   "execution_count": 21,
   "id": "345b15c6-4bb1-462c-8729-8aa0f9c14311",
   "metadata": {},
   "outputs": [
    {
     "data": {
      "text/plain": [
       "array([[5, 6],\n",
       "       [7, 8]])"
      ]
     },
     "execution_count": 21,
     "metadata": {},
     "output_type": "execute_result"
    }
   ],
   "source": [
    "b=ns.arange(5,9).reshape(2,2)\n",
    "b"
   ]
  },
  {
   "cell_type": "code",
   "execution_count": 22,
   "id": "a327cadc-0ed3-4ef4-aec2-7d7a13e81060",
   "metadata": {},
   "outputs": [
    {
     "data": {
      "text/plain": [
       "array([[ 6,  8],\n",
       "       [10, 12]])"
      ]
     },
     "execution_count": 22,
     "metadata": {},
     "output_type": "execute_result"
    }
   ],
   "source": [
    "a+b"
   ]
  },
  {
   "cell_type": "code",
   "execution_count": 23,
   "id": "8999a001-e396-40b6-81ab-74237bf09444",
   "metadata": {},
   "outputs": [
    {
     "data": {
      "text/plain": [
       "array([[-4, -4],\n",
       "       [-4, -4]])"
      ]
     },
     "execution_count": 23,
     "metadata": {},
     "output_type": "execute_result"
    }
   ],
   "source": [
    "a-b"
   ]
  },
  {
   "cell_type": "code",
   "execution_count": 24,
   "id": "d9e8a93f-dcef-46fe-bad3-bace6b2a890d",
   "metadata": {},
   "outputs": [
    {
     "data": {
      "text/plain": [
       "array([[ 5, 12],\n",
       "       [21, 32]])"
      ]
     },
     "execution_count": 24,
     "metadata": {},
     "output_type": "execute_result"
    }
   ],
   "source": [
    "a*b#not going to work "
   ]
  },
  {
   "cell_type": "code",
   "execution_count": 25,
   "id": "258943e1-d80a-4af6-a44d-610f809b0307",
   "metadata": {},
   "outputs": [
    {
     "data": {
      "text/plain": [
       "array([[19, 22],\n",
       "       [43, 50]])"
      ]
     },
     "execution_count": 25,
     "metadata": {},
     "output_type": "execute_result"
    }
   ],
   "source": [
    "#use this to multiply\n",
    "a.dot(b)"
   ]
  },
  {
   "cell_type": "code",
   "execution_count": 26,
   "id": "178ecd2a-a0e8-4532-902a-15f926af751a",
   "metadata": {},
   "outputs": [
    {
     "data": {
      "text/plain": [
       "array([1, 2, 3, 4, 5, 6, 7, 8, 9])"
      ]
     },
     "execution_count": 26,
     "metadata": {},
     "output_type": "execute_result"
    }
   ],
   "source": [
    "a=ns.arange(1,10)\n",
    "a"
   ]
  },
  {
   "cell_type": "code",
   "execution_count": 29,
   "id": "16102325-7539-45c5-951e-408c0a3c288e",
   "metadata": {},
   "outputs": [
    {
     "data": {
      "text/plain": [
       "array([[1, 2, 3],\n",
       "       [4, 5, 6],\n",
       "       [7, 8, 9]])"
      ]
     },
     "execution_count": 29,
     "metadata": {},
     "output_type": "execute_result"
    }
   ],
   "source": [
    "a=a.reshape(3,3)\n",
    "a"
   ]
  },
  {
   "cell_type": "code",
   "execution_count": 32,
   "id": "7204b94d-071b-4765-97e1-a66ddb995ebd",
   "metadata": {},
   "outputs": [
    {
     "data": {
      "text/plain": [
       "np.int64(45)"
      ]
     },
     "execution_count": 32,
     "metadata": {},
     "output_type": "execute_result"
    }
   ],
   "source": [
    "#total sum\n",
    "ns.sum(a)"
   ]
  },
  {
   "cell_type": "code",
   "execution_count": 33,
   "id": "c254fede-d550-4c61-a616-69a2eac1e7c6",
   "metadata": {},
   "outputs": [
    {
     "data": {
      "text/plain": [
       "array([12, 15, 18])"
      ]
     },
     "execution_count": 33,
     "metadata": {},
     "output_type": "execute_result"
    }
   ],
   "source": [
    "ns.sum(a,axis=0)#### column wise sum"
   ]
  },
  {
   "cell_type": "code",
   "execution_count": 35,
   "id": "fffd560f-588b-4096-a3b6-b443e0ac2d14",
   "metadata": {},
   "outputs": [
    {
     "data": {
      "text/plain": [
       "array([ 6, 15, 24])"
      ]
     },
     "execution_count": 35,
     "metadata": {},
     "output_type": "execute_result"
    }
   ],
   "source": [
    "ns.sum(a,axis=1)####row wise sum"
   ]
  },
  {
   "cell_type": "code",
   "execution_count": 36,
   "id": "e4cabba7-3d71-42f2-abc8-dbd182c57279",
   "metadata": {},
   "outputs": [],
   "source": [
    "#UNique()....>it will return unique elements of array and its indexing and total occurance"
   ]
  },
  {
   "cell_type": "code",
   "execution_count": 37,
   "id": "97a04d64-c3b4-4485-bf13-c14babbf4be2",
   "metadata": {},
   "outputs": [
    {
     "data": {
      "text/plain": [
       "array([1, 2, 3, 4, 5])"
      ]
     },
     "execution_count": 37,
     "metadata": {},
     "output_type": "execute_result"
    }
   ],
   "source": [
    "a=ns.array([1,2,2,2,2,2,2,2,2,1,3,4,5])\n",
    "ns.unique(a)"
   ]
  },
  {
   "cell_type": "code",
   "execution_count": 39,
   "id": "169b3947-c918-409a-aa08-a3867e2444c7",
   "metadata": {},
   "outputs": [
    {
     "data": {
      "text/plain": [
       "(array([1, 2, 3, 4, 5]), array([ 0,  1, 10, 11, 12]))"
      ]
     },
     "execution_count": 39,
     "metadata": {},
     "output_type": "execute_result"
    }
   ],
   "source": [
    "ns.unique(a,return_index=True)"
   ]
  },
  {
   "cell_type": "code",
   "execution_count": 43,
   "id": "65940af3-8501-4e0d-bd8c-c57a3034d0c3",
   "metadata": {},
   "outputs": [
    {
     "data": {
      "text/plain": [
       "(array([1, 2, 3, 4, 5]), array([ 0,  1, 10, 11, 12]), array([2, 8, 1, 1, 1]))"
      ]
     },
     "execution_count": 43,
     "metadata": {},
     "output_type": "execute_result"
    }
   ],
   "source": [
    "ns.unique(a,return_index=True,return_counts=True)"
   ]
  },
  {
   "cell_type": "code",
   "execution_count": 44,
   "id": "eff6eb4d-674b-4f00-a7aa-13cc624f4daf",
   "metadata": {},
   "outputs": [],
   "source": [
    "#linspace().....>it will create an array in which gap of values will be equal."
   ]
  },
  {
   "cell_type": "code",
   "execution_count": 45,
   "id": "d5d23300-2822-4ee4-b7ae-c667ce596906",
   "metadata": {},
   "outputs": [
    {
     "data": {
      "text/plain": [
       "array([1.  , 1.25, 1.5 , 1.75, 2.  ])"
      ]
     },
     "execution_count": 45,
     "metadata": {},
     "output_type": "execute_result"
    }
   ],
   "source": [
    "a=ns.linspace(1,2,5)\n",
    "a"
   ]
  },
  {
   "cell_type": "code",
   "execution_count": 46,
   "id": "dbcd9dc9-6cfd-4ded-99fa-6cefba7f1e83",
   "metadata": {},
   "outputs": [],
   "source": [
    "#Hstack and vstack"
   ]
  },
  {
   "cell_type": "code",
   "execution_count": 48,
   "id": "068cdbe3-933e-405f-892b-9c8d380b43a0",
   "metadata": {},
   "outputs": [
    {
     "data": {
      "text/plain": [
       "array([ 1,  2,  3,  4,  5,  6,  7,  8,  9, 10, 11, 12])"
      ]
     },
     "execution_count": 48,
     "metadata": {},
     "output_type": "execute_result"
    }
   ],
   "source": [
    "a=ns.array([1,2,3,4])\n",
    "b=ns.array([5,6,7,8])\n",
    "c=ns.array([9,10,11,12])\n",
    "ns.hstack((a,b,c))"
   ]
  },
  {
   "cell_type": "code",
   "execution_count": 49,
   "id": "cc524713-f28e-4ea5-ae4a-91b3b5c01d8b",
   "metadata": {},
   "outputs": [
    {
     "data": {
      "text/plain": [
       "array([[ 1,  2,  3,  4],\n",
       "       [ 5,  6,  7,  8],\n",
       "       [ 9, 10, 11, 12]])"
      ]
     },
     "execution_count": 49,
     "metadata": {},
     "output_type": "execute_result"
    }
   ],
   "source": [
    "ns.vstack((a,b,c))"
   ]
  },
  {
   "cell_type": "code",
   "execution_count": null,
   "id": "d6e4d873-de48-4490-902a-782a7438cfd2",
   "metadata": {},
   "outputs": [],
   "source": []
  }
 ],
 "metadata": {
  "kernelspec": {
   "display_name": "Python 3 (ipykernel)",
   "language": "python",
   "name": "python3"
  },
  "language_info": {
   "codemirror_mode": {
    "name": "ipython",
    "version": 3
   },
   "file_extension": ".py",
   "mimetype": "text/x-python",
   "name": "python",
   "nbconvert_exporter": "python",
   "pygments_lexer": "ipython3",
   "version": "3.11.8"
  }
 },
 "nbformat": 4,
 "nbformat_minor": 5
}
