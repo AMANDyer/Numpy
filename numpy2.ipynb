{
 "cells": [
  {
   "cell_type": "code",
   "execution_count": 1,
   "id": "106b0471-4194-47f9-b524-8d2c397d8884",
   "metadata": {},
   "outputs": [],
   "source": [
    "#(2). ones() ...> it will create an array in which all the values are 1\n",
    "import numpy as np"
   ]
  },
  {
   "cell_type": "code",
   "execution_count": 2,
   "id": "12d42a8d-5f9d-4022-9fa8-0abff8388b20",
   "metadata": {},
   "outputs": [
    {
     "data": {
      "text/plain": [
       "array([1., 1., 1., 1.])"
      ]
     },
     "execution_count": 2,
     "metadata": {},
     "output_type": "execute_result"
    }
   ],
   "source": [
    "a=np.ones(4)\n",
    "a"
   ]
  },
  {
   "cell_type": "code",
   "execution_count": 3,
   "id": "9f6cb257-621a-4c49-8e59-edab3bba6138",
   "metadata": {},
   "outputs": [],
   "source": [
    "#(3). eye()..>it will create an array in which diagnol positinaol\n",
    "#elements will be 1 and rest will be 0"
   ]
  },
  {
   "cell_type": "code",
   "execution_count": 4,
   "id": "87afbc68-758a-448c-b367-07785789f159",
   "metadata": {},
   "outputs": [
    {
     "data": {
      "text/plain": [
       "array([[1., 0., 0.],\n",
       "       [0., 1., 0.],\n",
       "       [0., 0., 1.]])"
      ]
     },
     "execution_count": 4,
     "metadata": {},
     "output_type": "execute_result"
    }
   ],
   "source": [
    "a=np.eye(3)\n",
    "a"
   ]
  },
  {
   "cell_type": "code",
   "execution_count": 5,
   "id": "3e458187-0521-442a-be12-18e378eaea40",
   "metadata": {},
   "outputs": [
    {
     "data": {
      "text/plain": [
       "array([[ 1,  0,  0,  0],\n",
       "       [ 0,  4,  0,  0],\n",
       "       [ 0,  0, 56,  0],\n",
       "       [ 0,  0,  0, 80]])"
      ]
     },
     "execution_count": 5,
     "metadata": {},
     "output_type": "execute_result"
    }
   ],
   "source": [
    "#(4)....> using this method, we can create an array in which we\n",
    "#customize our diagnol positinal ele.\n",
    "a=np.diag([1,4,56,80])\n",
    "a"
   ]
  },
  {
   "cell_type": "code",
   "execution_count": 6,
   "id": "01a17b19-b6e6-447b-9889-2aa340f36d01",
   "metadata": {},
   "outputs": [],
   "source": [
    "#(5)...>random Module"
   ]
  },
  {
   "cell_type": "code",
   "execution_count": 7,
   "id": "133971ec-0b67-4d76-9581-6375402f80e4",
   "metadata": {},
   "outputs": [],
   "source": [
    "#(a).... It will generate random numbers in a given range\n",
    "#Syntex np.randdom.randint(min_val,max_val,total_num)"
   ]
  },
  {
   "cell_type": "code",
   "execution_count": 10,
   "id": "df3c3179-8d4a-4739-a810-6f295e459ad0",
   "metadata": {},
   "outputs": [
    {
     "data": {
      "text/plain": [
       "array([2, 5, 4], dtype=int32)"
      ]
     },
     "execution_count": 10,
     "metadata": {},
     "output_type": "execute_result"
    }
   ],
   "source": [
    "a=np.random.randint(1,10,3)\n",
    "a"
   ]
  },
  {
   "cell_type": "code",
   "execution_count": 12,
   "id": "4e669773-046d-47e6-9cd8-3221f81033f6",
   "metadata": {},
   "outputs": [
    {
     "data": {
      "text/plain": [
       "array([[0.45344675, 0.28927355, 0.47286996],\n",
       "       [0.98582228, 0.65943957, 0.19174699],\n",
       "       [0.42849489, 0.02565346, 0.11474828]])"
      ]
     },
     "execution_count": 12,
     "metadata": {},
     "output_type": "execute_result"
    }
   ],
   "source": [
    "#(b) rand()....> it ill generate random numbers in range 0-1\n",
    "a=np.random.rand(3,3,)\n",
    "a"
   ]
  },
  {
   "cell_type": "code",
   "execution_count": 13,
   "id": "bff9b0a2-ab01-4b6a-8094-4bb5832ee012",
   "metadata": {},
   "outputs": [],
   "source": [
    "#(c) seed()....> it will fix our random generated data"
   ]
  },
  {
   "cell_type": "code",
   "execution_count": 16,
   "id": "7a1d3bd9-d668-49c0-bff1-06add88e9909",
   "metadata": {},
   "outputs": [
    {
     "data": {
      "text/plain": [
       "array([6, 6, 5], dtype=int32)"
      ]
     },
     "execution_count": 16,
     "metadata": {},
     "output_type": "execute_result"
    }
   ],
   "source": [
    "np.random.seed(30)\n",
    "a=np.random.randint(1,10,3)\n",
    "a"
   ]
  },
  {
   "cell_type": "code",
   "execution_count": 1,
   "id": "ac9179cc-7b60-4a53-8d2b-516e1bcad18b",
   "metadata": {},
   "outputs": [],
   "source": [
    "#(6)....> view vs copy\n",
    "#view means modification in original data\n",
    "#copy means modification in duplicate data"
   ]
  },
  {
   "cell_type": "code",
   "execution_count": 2,
   "id": "5c2a9d1c-d694-4ab6-81ad-ef17ba514765",
   "metadata": {},
   "outputs": [
    {
     "ename": "NameError",
     "evalue": "name 'np' is not defined",
     "output_type": "error",
     "traceback": [
      "\u001b[31m---------------------------------------------------------------------------\u001b[39m",
      "\u001b[31mNameError\u001b[39m                                 Traceback (most recent call last)",
      "\u001b[36mCell\u001b[39m\u001b[36m \u001b[39m\u001b[32mIn[2]\u001b[39m\u001b[32m, line 1\u001b[39m\n\u001b[32m----> \u001b[39m\u001b[32m1\u001b[39m a=\u001b[43mnp\u001b[49m.array([\u001b[32m1\u001b[39m,\u001b[32m2\u001b[39m,\u001b[32m3\u001b[39m,\u001b[32m4\u001b[39m,\u001b[32m5\u001b[39m,\u001b[32m6\u001b[39m,\u001b[32m7\u001b[39m,\u001b[32m8\u001b[39m,\u001b[32m9\u001b[39m])\n\u001b[32m      2\u001b[39m b=a[\u001b[32m2\u001b[39m:\u001b[32m5\u001b[39m]\n\u001b[32m      3\u001b[39m b[:]=\u001b[32m0\u001b[39m\n",
      "\u001b[31mNameError\u001b[39m: name 'np' is not defined"
     ]
    }
   ],
   "source": [
    "impa=np.array([1,2,3,4,5,6,7,8,9])\n",
    "b=a[2:5]\n",
    "b[:]=0\n",
    "b"
   ]
  },
  {
   "cell_type": "code",
   "execution_count": null,
   "id": "d5943b34-6a1c-475e-984b-15fee06b742b",
   "metadata": {},
   "outputs": [],
   "source": []
  }
 ],
 "metadata": {
  "kernelspec": {
   "display_name": "Python 3 (ipykernel)",
   "language": "python",
   "name": "python3"
  },
  "language_info": {
   "codemirror_mode": {
    "name": "ipython",
    "version": 3
   },
   "file_extension": ".py",
   "mimetype": "text/x-python",
   "name": "python",
   "nbconvert_exporter": "python",
   "pygments_lexer": "ipython3",
   "version": "3.11.8"
  }
 },
 "nbformat": 4,
 "nbformat_minor": 5
}
