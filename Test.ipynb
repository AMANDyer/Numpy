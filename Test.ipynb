{
 "cells": [
  {
   "cell_type": "code",
   "execution_count": 1,
   "id": "4bff7c07-607a-42d7-b6f0-981e127f1039",
   "metadata": {},
   "outputs": [],
   "source": [
    "import numpy as np"
   ]
  },
  {
   "cell_type": "code",
   "execution_count": 2,
   "id": "6742f08d-4acb-4238-b226-a36f22a2a7a7",
   "metadata": {},
   "outputs": [
    {
     "name": "stdin",
     "output_type": "stream",
     "text": [
      "Enter the size 4\n",
      "Enter the value 1\n",
      "Enter the value 2\n",
      "Enter the value 3\n",
      "Enter the value 4\n"
     ]
    },
    {
     "data": {
      "text/plain": [
       "array([1, 2, 3, 4])"
      ]
     },
     "execution_count": 2,
     "metadata": {},
     "output_type": "execute_result"
    }
   ],
   "source": [
    "#2\n",
    "a=[]\n",
    "size=int(input(\"Enter the size\"))\n",
    "for i in range(size):\n",
    "    val=int(input(\"Enter the value\"))\n",
    "    a.append(val)\n",
    "\n",
    "b=np.array(a)\n",
    "b"
   ]
  },
  {
   "cell_type": "code",
   "execution_count": 14,
   "id": "e1938d34-14d6-4495-9116-04127a643037",
   "metadata": {},
   "outputs": [
    {
     "data": {
      "text/plain": [
       "array([3, 1, 2, 1, 2, 3, 3, 4, 1, 1], dtype=int32)"
      ]
     },
     "execution_count": 14,
     "metadata": {},
     "output_type": "execute_result"
    }
   ],
   "source": [
    "#3\n",
    "a=np.random.randint(1,5,10)\n",
    "a"
   ]
  },
  {
   "cell_type": "code",
   "execution_count": 16,
   "id": "29857fc7-4bfd-4a4f-8f0b-b10681cb1523",
   "metadata": {},
   "outputs": [
    {
     "data": {
      "text/plain": [
       "array([10, 11, 12, 13, 14, 15, 16, 17, 18, 19, 20])"
      ]
     },
     "execution_count": 16,
     "metadata": {},
     "output_type": "execute_result"
    }
   ],
   "source": [
    "#4\n",
    "a=np.arange(10,21,1)\n",
    "a"
   ]
  },
  {
   "cell_type": "code",
   "execution_count": 17,
   "id": "94de97b8-da72-46dc-8dcf-ae96f7be576a",
   "metadata": {},
   "outputs": [
    {
     "data": {
      "text/plain": [
       "array([5, 5, 5, 5, 5, 5, 5, 5, 5, 5])"
      ]
     },
     "execution_count": 17,
     "metadata": {},
     "output_type": "execute_result"
    }
   ],
   "source": [
    "#5\n",
    "#2\n",
    "a=[]\n",
    "size=10\n",
    "for i in range(size):\n",
    "    a.append(5)\n",
    "\n",
    "b=np.array(a)\n",
    "b"
   ]
  },
  {
   "cell_type": "code",
   "execution_count": 20,
   "id": "b6f8ea59-f9aa-4f10-8e97-b65c5fd9d144",
   "metadata": {},
   "outputs": [
    {
     "data": {
      "text/plain": [
       "array([[1, 2, 3],\n",
       "       [4, 5, 6],\n",
       "       [7, 8, 9]])"
      ]
     },
     "execution_count": 20,
     "metadata": {},
     "output_type": "execute_result"
    }
   ],
   "source": [
    "#6\n",
    "a=np.arange(1,10,1)\n",
    "a.reshape(3,3)"
   ]
  },
  {
   "cell_type": "code",
   "execution_count": 23,
   "id": "9e905070-015e-429f-b04d-b166e38998af",
   "metadata": {},
   "outputs": [
    {
     "data": {
      "text/plain": [
       "array([[0.62287641, 0.71050107, 0.41104806],\n",
       "       [0.99269345, 0.6899044 , 0.9831482 ],\n",
       "       [0.18903792, 0.88660878, 0.86819995]])"
      ]
     },
     "execution_count": 23,
     "metadata": {},
     "output_type": "execute_result"
    }
   ],
   "source": [
    "#7\n",
    "a=np.random.rand(3,3)\n",
    "a"
   ]
  },
  {
   "cell_type": "code",
   "execution_count": 40,
   "id": "fc9820cb-6d67-4ea0-a4ab-ac6bd363dd5f",
   "metadata": {},
   "outputs": [
    {
     "data": {
      "text/plain": [
       "array([ 8, 10, 12, 14, 16, 18])"
      ]
     },
     "execution_count": 40,
     "metadata": {},
     "output_type": "execute_result"
    }
   ],
   "source": [
    "#8\n",
    "a=np.arange(1,7,1)\n",
    "a.reshape(2,3)\n",
    "b=np.arange(7,13,1)\n",
    "b.reshape(2,3)\n",
    "np.hstack(a)+np.hstack(b)\n",
    "np.vstack(a)+"
   ]
  },
  {
   "cell_type": "code",
   "execution_count": null,
   "id": "65b54a76-aed4-40f2-a17d-01a04343c206",
   "metadata": {},
   "outputs": [],
   "source": []
  }
 ],
 "metadata": {
  "kernelspec": {
   "display_name": "Python 3 (ipykernel)",
   "language": "python",
   "name": "python3"
  },
  "language_info": {
   "codemirror_mode": {
    "name": "ipython",
    "version": 3
   },
   "file_extension": ".py",
   "mimetype": "text/x-python",
   "name": "python",
   "nbconvert_exporter": "python",
   "pygments_lexer": "ipython3",
   "version": "3.11.8"
  }
 },
 "nbformat": 4,
 "nbformat_minor": 5
}
